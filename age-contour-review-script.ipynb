{
 "cells": [
  {
   "cell_type": "markdown",
   "id": "605e9523-e66c-4edb-9a6a-107b56e0223b",
   "metadata": {},
   "source": [
    "# Age Contour Disclosure Manager Code"
   ]
  },
  {
   "cell_type": "markdown",
   "id": "91f7ef04-c1cb-41aa-9fc6-abdff5b772cd",
   "metadata": {},
   "source": [
    "## What this notebook does\n"
   ]
  },
  {
   "cell_type": "markdown",
   "id": "f241fd43-3bbb-42fc-94d0-cb9d53b0cb1e",
   "metadata": {},
   "source": [
    "This notebook has been set up to read in csvs, jpegs, and html files which have been sent to the review bucket, so that they can be checked for quality and disclosure. All items which are requested for export first needs to be Disclosure controlled by a seperate DisCO (Disclosure Control Officer), this cannot be the same person who ran the data and requested the export. Once disclosure controlled a Data Journey manager can be notified to move the data ready for export."
   ]
  },
  {
   "cell_type": "markdown",
   "id": "ae871208-946f-41df-a0a4-5a2dd26d8cd6",
   "metadata": {},
   "source": [
    "## Setup"
   ]
  },
  {
   "cell_type": "markdown",
   "id": "7f8804eb-9b40-4a27-bffb-862dd0ce6e75",
   "metadata": {},
   "source": [
    "Authentification for GCP and libraries"
   ]
  },
  {
   "cell_type": "code",
   "execution_count": null,
   "id": "edf99762-acdd-49c0-ba6f-5329d126608a",
   "metadata": {},
   "outputs": [],
   "source": [
    "options(\"googleAuthR.httr_oauth_cache\" = \"gce.oauth\")\n",
    "googleAuthR::gar_gce_auth()\n",
    "devtools::install(\"../gcptools\", upgrade = FALSE)\n",
    "library(googleCloudStorageR)\n",
    "library(readr)"
   ]
  },
  {
   "cell_type": "markdown",
   "id": "1dc584f0-12fa-43b4-b2ce-676decff2ffc",
   "metadata": {},
   "source": [
    "This ensures that people cannot commit notebooks containing evalutated outputs."
   ]
  },
  {
   "cell_type": "code",
   "execution_count": null,
   "id": "130dc7e3-c7d6-48d7-beee-e7ab53a315a2",
   "metadata": {},
   "outputs": [],
   "source": [
    "gcptools::commit_hooks_setup(\"/home/jupyter/CIS_age_contour\") #[IMPORTANT SECURITY FEATURE DO NOT REMOVE] "
   ]
  },
  {
   "cell_type": "markdown",
   "id": "cbe29ab8-226d-4cbc-acfe-9abd76f779bb",
   "metadata": {},
   "source": [
    "custom parse function to suppress warning, because default gives a warning about missing column name."
   ]
  },
  {
   "cell_type": "code",
   "execution_count": null,
   "id": "4ee3315c-9b01-406c-ba71-6ec7742b4959",
   "metadata": {},
   "outputs": [],
   "source": [
    "f <- function(object){\n",
    "  suppressWarnings(httr::content(object, encoding = \"UTF-8\"))\n",
    "}"
   ]
  },
  {
   "cell_type": "markdown",
   "id": "c64c5f07-f2d6-40fd-b36e-5abc2ff3fad1",
   "metadata": {},
   "source": [
    "## Get csv files from the review bucket"
   ]
  },
  {
   "cell_type": "markdown",
   "id": "1fae574b-964f-4895-aea1-4ccf6e7328c7",
   "metadata": {},
   "source": [
    "<FONT COLOR=\"RED\"> **INSTRUCTION:**</FONT> Select the csv file you want to review by replacing the string below with a filepath to the csv"
   ]
  },
  {
   "cell_type": "code",
   "execution_count": null,
   "id": "b039495f-0cdf-458c-8ee4-96b0f894208c",
   "metadata": {},
   "outputs": [],
   "source": [
    "object_name <- \"20221121_agecontour_swabs_OneDayMissing/probs_age_contour_swabs_20221115_DTS221212_1359UTC.csv\" #or \"<yyyymmdd>_agecontour_antibodies/<filename>.csv\""
   ]
  },
  {
   "cell_type": "code",
   "execution_count": null,
   "id": "33796f10-538d-483e-ab1d-4a7e601faf2f",
   "metadata": {},
   "outputs": [],
   "source": [
    "data = googleCloudStorageR::gcs_get_object(object_name,\n",
    "                                           bucket = \"polestar-prod-review\",\n",
    "                                           parseFunction = f)"
   ]
  },
  {
   "cell_type": "markdown",
   "id": "f97082b5-3e0a-4ccc-8ae0-780ad9f7cbdf",
   "metadata": {},
   "source": [
    "<FONT COLOR=\"RED\"> **INSTRUCTION:**</FONT> Check the contents of your csv by using the head, tail, or summary functions"
   ]
  },
  {
   "cell_type": "code",
   "execution_count": null,
   "id": "d24569cb-3435-4451-9ef9-cdf4dd439a29",
   "metadata": {},
   "outputs": [],
   "source": [
    "tail(data, 20) #or head(data), summary(data) etc"
   ]
  },
  {
   "cell_type": "markdown",
   "id": "c398d39d-8e82-41c6-953e-59f9586910df",
   "metadata": {},
   "source": [
    "## Get jpeg files from the review bucket:"
   ]
  },
  {
   "cell_type": "markdown",
   "id": "d57242a8-37cf-43c5-be5e-26094b500b52",
   "metadata": {},
   "source": [
    "<FONT COLOR=\"RED\"> **INSTRUCTION:**</FONT> Set folderapth to your chosen folder, in the format below."
   ]
  },
  {
   "cell_type": "code",
   "execution_count": null,
   "id": "6aba21d6-22e8-46f8-841c-7645ad033c21",
   "metadata": {},
   "outputs": [],
   "source": [
    "folderpath <- \"20221114_agecontour_swabs\""
   ]
  },
  {
   "cell_type": "markdown",
   "id": "54986397-4288-46e0-a7e6-b296caacd2ba",
   "metadata": {},
   "source": [
    "Create pattern to match on (see link for more info on pattern matching. https://evoldyn.gitlab.io/evomics-2018/ref-sheets/R_strings.pdf)"
   ]
  },
  {
   "cell_type": "code",
   "execution_count": null,
   "id": "a337041a-a17f-4e1e-a14a-eada994bd9fe",
   "metadata": {},
   "outputs": [],
   "source": [
    "pattern_to_match = paste0(\"^\", \n",
    "                          folderpath,\n",
    "                          \"/.*\", #this matches all characters\n",
    "                          \".jpeg\")\n",
    "print(paste0(\"This is the pattern that is being matched on:    \", pattern_to_match))"
   ]
  },
  {
   "cell_type": "markdown",
   "id": "396c2d32-e203-4b1f-9f30-8a12e55922f6",
   "metadata": {},
   "source": [
    "Download all files which match this pattern from the review bucket"
   ]
  },
  {
   "cell_type": "code",
   "execution_count": null,
   "id": "6d0d6d16-73fd-47cc-bfa4-1e78c5919b24",
   "metadata": {},
   "outputs": [],
   "source": [
    "jpegs <- grep(x = googleCloudStorageR::gcs_list_objects(\"polestar-prod-review\")$name,\n",
    "               pattern = pattern_to_match,\n",
    "               value = TRUE)\n",
    "jpegs"
   ]
  },
  {
   "cell_type": "markdown",
   "id": "62345f86-316a-47cd-b435-0d98db12ff49",
   "metadata": {},
   "source": [
    "Pull all of the jpeg images into a single list for plotting"
   ]
  },
  {
   "cell_type": "code",
   "execution_count": null,
   "id": "ed0e7daf-3705-4ec4-828c-10c288ecb33f",
   "metadata": {},
   "outputs": [],
   "source": [
    "jpeg_list <- lapply(X = jpegs,\n",
    "                    FUN = googleCloudStorageR::gcs_get_object,\n",
    "                    bucket = \"polestar-prod-review\")"
   ]
  },
  {
   "cell_type": "markdown",
   "id": "8202d000-7177-4f67-9c83-8057b480eb83",
   "metadata": {},
   "source": [
    "Plot jpegs, assuming square images of 3000px resolution "
   ]
  },
  {
   "cell_type": "code",
   "execution_count": null,
   "id": "3d448944-2ac1-4e2e-90f0-78281d115e2a",
   "metadata": {},
   "outputs": [],
   "source": [
    "for(fig in 1:length(jpeg_list)){\n",
    "    plot(0:3000, type = 'n')\n",
    " rasterImage(image = jpeg_list[[fig]], 0, 0, 3000, 3000)\n",
    "} "
   ]
  },
  {
   "cell_type": "markdown",
   "id": "ee6dee71-4bdd-40bd-afa0-b591dfbc40dc",
   "metadata": {},
   "source": [
    "## Get QA reports from the review bucket:"
   ]
  },
  {
   "cell_type": "markdown",
   "id": "0a3a8e4d-ae32-4fec-977c-9da30c06a788",
   "metadata": {},
   "source": [
    "If 'docs' folder does not exist in the local directory, then create it. Either way, set the working directory to the docs folder to save outputs"
   ]
  },
  {
   "cell_type": "code",
   "execution_count": null,
   "id": "d85ce756-9906-4030-b79d-c27a42aeb509",
   "metadata": {},
   "outputs": [],
   "source": [
    "main_directory <- \"/home/jupyter/\"\n",
    "sub_directory <- \"QA_reports\"\n",
    "\n",
    "if (file.exists(sub_directory)){\n",
    "    setwd(file.path(main_directory, sub_directory))\n",
    "} else {\n",
    "    dir.create(file.path(main_directory, sub_directory))\n",
    "    setwd(file.path(main_directory, sub_directory))   \n",
    "}"
   ]
  },
  {
   "cell_type": "markdown",
   "id": "d6c7e398-6cf1-41a4-809d-eac5332b2d65",
   "metadata": {},
   "source": [
    "<FONT COLOR=\"RED\"> **INSTRUCTION:**</FONT> Replace the string in the 'file' argument to select the correct file from the review bucket to download files into your local QA_Report folder"
   ]
  },
  {
   "cell_type": "code",
   "execution_count": null,
   "id": "91026f67-6cc9-421d-8b1d-581be1b2dc3f",
   "metadata": {},
   "outputs": [],
   "source": [
    "gcptools::download_qa_report_to_notebook(file = \"20221121_agecontour_swabs_OneDayMissing/qareport_age_contour_swabs_20221115_DTS221212_1359UTC.html\", #or \"<yyyymmdd>_agecontour_antibodies/<filename>.html\"\n",
    "                                         bucket = \"polestar-prod-review\") "
   ]
  },
  {
   "cell_type": "markdown",
   "id": "6b0848eb-3bae-4347-ab8a-5405442d0a3c",
   "metadata": {},
   "source": [
    "<FONT COLOR=\"RED\"> **INSTRUCTION:**</FONT> Locate the QA_reports folder at the repo level of folders (i.e. where you would go to navigate to other repo's) to review the report"
   ]
  }
 ],
 "metadata": {
  "environment": {
   "kernel": "ir",
   "name": "r-cpu.4-1.m92",
   "type": "gcloud",
   "uri": "gcr.io/deeplearning-platform-release/r-cpu.4-1:m92"
  },
  "kernelspec": {
   "display_name": "R",
   "language": "R",
   "name": "ir"
  },
  "language_info": {
   "codemirror_mode": "r",
   "file_extension": ".r",
   "mimetype": "text/x-r-source",
   "name": "R",
   "pygments_lexer": "r",
   "version": "4.2.0"
  }
 },
 "nbformat": 4,
 "nbformat_minor": 5
}
